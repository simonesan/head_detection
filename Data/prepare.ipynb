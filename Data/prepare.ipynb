{
 "cells": [
  {
   "cell_type": "code",
   "execution_count": 2,
   "metadata": {},
   "outputs": [],
   "source": [
    "from openimages.download import download_dataset\n",
    "import ssl\n",
    "import glob\n",
    "import os\n",
    "import shutil\n",
    "import xml.etree.ElementTree as ET"
   ]
  },
  {
   "cell_type": "code",
   "execution_count": 3,
   "metadata": {},
   "outputs": [
    {
     "name": "stderr",
     "output_type": "stream",
     "text": [
      "2021-01-10  10:47:44 INFO Note: NumExpr detected 16 cores but \"NUMEXPR_MAX_THREADS\" not set, so enforcing safe limit of 8.\n",
      "2021-01-10  10:47:44 INFO NumExpr defaulting to 8 threads.\n",
      "2021-01-10  10:47:48 INFO Downloading 5000 train images for class 'human head'\n",
      "100%|█████████▉| 4988/5000 [05:08<00:00, 13.26it/s]2021-01-10  10:52:56 WARNING Connection pool is full, discarding connection: open-images-dataset.s3.amazonaws.com\n",
      "100%|██████████| 5000/5000 [05:08<00:00, 16.21it/s]\n",
      "2021-01-10  10:52:56 INFO Creating 5000 train annotations (pascal) for class 'human head'\n",
      "100%|██████████| 5000/5000 [00:10<00:00, 484.38it/s]\n"
     ]
    },
    {
     "data": {
      "text/plain": [
       "{'human head': {'images_dir': '.\\\\human head\\\\images',\n",
       "  'annotations_dir': '.\\\\human head\\\\pascal'}}"
      ]
     },
     "execution_count": 3,
     "metadata": {},
     "output_type": "execute_result"
    }
   ],
   "source": [
    "#pip install --upgrade certifi\n",
    "download_dataset(\".\", [\"Human head\",], annotation_format=\"pascal\", limit=5000)"
   ]
  },
  {
   "cell_type": "code",
   "execution_count": 4,
   "metadata": {},
   "outputs": [],
   "source": [
    "def read_content(xml_file: str):\n",
    "\n",
    "    tree = ET.parse(xml_file)\n",
    "    root = tree.getroot()\n",
    "\n",
    "    box_list = []\n",
    "\n",
    "    for boxes in root.iter('object'):\n",
    "\n",
    "        filename = root.find('filename').text\n",
    "\n",
    "        ymin, xmin, ymax, xmax = None, None, None, None\n",
    "\n",
    "        ymin = int(boxes.find(\"bndbox/ymin\").text)\n",
    "        xmin = int(boxes.find(\"bndbox/xmin\").text)\n",
    "        ymax = int(boxes.find(\"bndbox/ymax\").text)\n",
    "        xmax = int(boxes.find(\"bndbox/xmax\").text)\n",
    "\n",
    "        box = [xmin, ymin, xmax, ymax]\n",
    "        box_list.append(box)\n",
    "\n",
    "    return filename, box_list"
   ]
  },
  {
   "cell_type": "code",
   "execution_count": 5,
   "metadata": {},
   "outputs": [],
   "source": [
    "xml_files = glob.glob(\"./human head/pascal/*.xml\")\n",
    "trainfile = open(\"./Source_Images/Training_Images/data_train.txt\",\"w\")\n",
    "testfile = open(\"./Source_Images/Test_Images/data_test.txt\",\"w\")\n",
    "trainsize = 4500\n",
    "\n",
    "cnt = 0;\n",
    "for filename in sorted(xml_files):\n",
    "    #print (filename)\n",
    "    if cnt < trainsize:\n",
    "            image_name, box_list = read_content(filename)\n",
    "            trainfile.write(os.getcwd() + \"/Source_Images/Training_Images/\" + image_name)\n",
    "            shutil.copy(\"./human head/images/\"+ image_name, \"./Source_Images/Training_Images/\"+ image_name)\n",
    "    else:\n",
    "        image_name, box_list = read_content(filename)\n",
    "        testfile.write(os.getcwd()+\"/Source_Images/Test_Images/\"+image_name)\n",
    "        shutil.copy(\"./human head/images/\"+ image_name, \"./Source_Images/Test_Images/\"+ image_name)\n",
    "        \n",
    "    for box in box_list:\n",
    "        if cnt < trainsize:\n",
    "            trainfile.write( \" \" + str(box[0]) + \",\" + str(box[1]) + \",\" + str(box[2]) + \",\" + str(box[3]) + \",0\")\n",
    "        else:\n",
    "            testfile.write( \" \" + str(box[0]) + \",\" + str(box[1]) + \",\" + str(box[2]) + \",\" + str(box[3]) + \",0\")\n",
    "            \n",
    "    if cnt < trainsize:\n",
    "            trainfile.write( \"\\n\")\n",
    "    else:\n",
    "        testfile.write( \"\\n\")\n",
    "        \n",
    "    cnt = cnt + 1\n",
    "trainfile.close()\n",
    "trainfile.close()"
   ]
  }
 ],
 "metadata": {
  "kernelspec": {
   "display_name": "Python 3",
   "language": "python",
   "name": "python3"
  },
  "language_info": {
   "codemirror_mode": {
    "name": "ipython",
    "version": 3
   },
   "file_extension": ".py",
   "mimetype": "text/x-python",
   "name": "python",
   "nbconvert_exporter": "python",
   "pygments_lexer": "ipython3",
   "version": "3.8.3"
  }
 },
 "nbformat": 4,
 "nbformat_minor": 4
}
